{
 "cells": [
  {
   "cell_type": "markdown",
   "metadata": {
    "id": "gO5Z0qErNuOt"
   },
   "source": [
    "# Self Attention in Transformers"
   ]
  },
  {
   "cell_type": "markdown",
   "metadata": {
    "id": "HedntyUvLrBo"
   },
   "source": [
    "## Generate Data"
   ]
  },
  {
   "cell_type": "code",
   "execution_count": null,
   "metadata": {
    "id": "xtKbaWhFJui3"
   },
   "outputs": [],
   "source": [
    "import numpy as np\n",
    "import math\n",
    "\n",
    "L, d_k, d_v = 4, 8, 8\n",
    "q = np.random.randn(L, d_k)\n",
    "k = np.random.randn(L, d_k)\n",
    "v = np.random.randn(L, d_v)"
   ]
  },
  {
   "cell_type": "code",
   "execution_count": null,
   "metadata": {
    "colab": {
     "base_uri": "https://localhost:8080/"
    },
    "id": "09JpvuNJ2sZC",
    "outputId": "30d2c627-8647-44e0-aa92-c9e53e3b7843"
   },
   "outputs": [
    {
     "name": "stdout",
     "output_type": "stream",
     "text": [
      "Q\n",
      " [[ 0.11672673 -2.54870451 -1.44065948  0.93661829  1.36278968  1.04252277\n",
      "  -0.01310938 -1.3163937 ]\n",
      " [ 0.26721599 -0.90218255  0.07417847 -0.10430246  0.52684253 -0.07081531\n",
      "  -0.60511725 -0.55225527]\n",
      " [-0.93297509  0.28724456  1.37184579  0.41589874  0.34981245 -0.24753755\n",
      "  -1.24497125  0.05044148]\n",
      " [-0.11414585 -0.01545749 -0.58376828 -0.40193907  0.93931836 -1.94334363\n",
      "  -0.34770465  1.50103406]]\n",
      "K\n",
      " [[ 1.1226585  -0.85645535  0.54315044  1.36560451  0.52539476 -0.94502504\n",
      "  -0.48444661  0.46268014]\n",
      " [-0.53713766 -1.16937329 -0.57988617  0.92713577 -0.85995607 -0.40352635\n",
      "   0.26555146 -1.83159914]\n",
      " [-2.06994435 -0.09514715 -1.64928361 -0.17375184  0.13146819 -1.76335363\n",
      "   1.56568846  0.69751826]\n",
      " [ 0.32910684 -0.1939204  -0.80444134  0.78816869  0.35599408  0.28309835\n",
      "  -0.25970963  1.49744622]]\n",
      "V\n",
      " [[-0.00368231  1.43739233 -0.59614565 -1.23171219  1.12030717 -0.98620738\n",
      "  -0.15461465 -1.03106383]\n",
      " [ 0.85585446 -1.79878344  0.67321704  0.05607552 -0.15542661 -1.41264124\n",
      "  -0.40136933 -1.17626611]\n",
      " [ 0.50465335  2.28693419  0.67128338  0.2506863   1.78802234  0.14775751\n",
      "  -0.11405725  0.88026286]\n",
      " [-0.68069105  0.68385101  0.17994557 -1.68013201  0.91543969 -0.19108312\n",
      "   0.03160471  1.40527326]]\n"
     ]
    }
   ],
   "source": [
    "print(\"Q\\n\", q)\n",
    "print(\"K\\n\", k)\n",
    "print(\"V\\n\", v)"
   ]
  },
  {
   "cell_type": "markdown",
   "metadata": {
    "id": "tV6txskBLwjh"
   },
   "source": [
    "## Self Attention\n",
    "\n",
    "$$\n",
    "\\text{self attention} = softmax\\bigg(\\frac{Q.K^T}{\\sqrt{d_k}}+M\\bigg)\n",
    "$$\n",
    "\n",
    "$$\n",
    "\\text{new V} = \\text{self attention}.V\n",
    "$$ "
   ]
  },
  {
   "cell_type": "code",
   "execution_count": null,
   "metadata": {
    "colab": {
     "base_uri": "https://localhost:8080/"
    },
    "id": "x7GePHKk3Mh0",
    "outputId": "7dae7f5e-4715-4fd4-fbfd-7c0815e7d39e"
   },
   "outputs": [
    {
     "data": {
      "text/plain": [
       "array([[ 1.9385252 ,  5.43647918, -0.38370563,  1.24225801],\n",
       "       [ 1.35187753,  1.19807371, -1.70999851, -0.38129862],\n",
       "       [ 1.06382646, -0.86860778, -1.86251774, -0.68520405],\n",
       "       [ 2.21209236, -2.81995366,  5.32327746,  2.24049732]])"
      ]
     },
     "execution_count": 3,
     "metadata": {},
     "output_type": "execute_result"
    }
   ],
   "source": [
    "np.matmul(q, k.T)"
   ]
  },
  {
   "cell_type": "code",
   "execution_count": null,
   "metadata": {
    "colab": {
     "base_uri": "https://localhost:8080/"
    },
    "id": "odK76OoI3nL2",
    "outputId": "69b50cdb-9a41-45ae-bfd2-619228af1ef7"
   },
   "outputs": [
    {
     "data": {
      "text/plain": [
       "(0.8672192297664698, 0.9229851723027697, 5.1446872979260165)"
      ]
     },
     "execution_count": 4,
     "metadata": {},
     "output_type": "execute_result"
    }
   ],
   "source": [
    "# Why we need sqrt(d_k) in denominator\n",
    "q.var(), k.var(), np.matmul(q, k.T).var()"
   ]
  },
  {
   "cell_type": "code",
   "execution_count": null,
   "metadata": {
    "colab": {
     "base_uri": "https://localhost:8080/"
    },
    "id": "0Ps6AY1Q3tRI",
    "outputId": "3b9ac3c8-70b8-47bd-e868-e7d6fd26d270"
   },
   "outputs": [
    {
     "data": {
      "text/plain": [
       "(0.8672192297664698, 0.9229851723027697, 0.643085912240752)"
      ]
     },
     "execution_count": 5,
     "metadata": {},
     "output_type": "execute_result"
    }
   ],
   "source": [
    "scaled = np.matmul(q, k.T) / math.sqrt(d_k)\n",
    "q.var(), k.var(), scaled.var()"
   ]
  },
  {
   "cell_type": "markdown",
   "metadata": {
    "id": "ypO9IK1PL3cJ"
   },
   "source": [
    "Notice the reduction in variance of the product"
   ]
  },
  {
   "cell_type": "code",
   "execution_count": null,
   "metadata": {
    "colab": {
     "base_uri": "https://localhost:8080/"
    },
    "id": "LVHAJR4N4VQX",
    "outputId": "52b06cf8-0381-453c-b576-0bd8de9a38b5"
   },
   "outputs": [
    {
     "data": {
      "text/plain": [
       "array([[ 0.68537216,  1.92208565, -0.13566043,  0.43920453],\n",
       "       [ 0.47796088,  0.42358302, -0.60457577, -0.13480942],\n",
       "       [ 0.37611945, -0.30709922, -0.65849946, -0.24225621],\n",
       "       [ 0.78209275, -0.99700418,  1.88206279,  0.79213542]])"
      ]
     },
     "execution_count": 6,
     "metadata": {},
     "output_type": "execute_result"
    }
   ],
   "source": [
    "scaled"
   ]
  },
  {
   "cell_type": "markdown",
   "metadata": {
    "id": "Dmz4v-RmMAaj"
   },
   "source": [
    "## Masking\n",
    "\n",
    "- This is to ensure words don't get context from words generated in the future. \n",
    "- Not required in the encoders, but required int he decoders"
   ]
  },
  {
   "cell_type": "code",
   "execution_count": null,
   "metadata": {
    "colab": {
     "base_uri": "https://localhost:8080/"
    },
    "id": "e8N3OhSLILfG",
    "outputId": "2c63a444-066c-44b2-abe5-242dd989f311"
   },
   "outputs": [
    {
     "data": {
      "text/plain": [
       "array([[1., 0., 0., 0.],\n",
       "       [1., 1., 0., 0.],\n",
       "       [1., 1., 1., 0.],\n",
       "       [1., 1., 1., 1.]])"
      ]
     },
     "execution_count": 7,
     "metadata": {},
     "output_type": "execute_result"
    }
   ],
   "source": [
    "mask = np.tril(np.ones( (L, L) ))\n",
    "mask"
   ]
  },
  {
   "cell_type": "code",
   "execution_count": null,
   "metadata": {
    "id": "hIV9K3Yn6s1V"
   },
   "outputs": [],
   "source": [
    "mask[mask == 0] = -np.infty\n",
    "mask[mask == 1] = 0"
   ]
  },
  {
   "cell_type": "code",
   "execution_count": null,
   "metadata": {
    "colab": {
     "base_uri": "https://localhost:8080/"
    },
    "id": "LK5V_T3W6vpX",
    "outputId": "bb4160a1-a011-4850-e403-9cb252572c66"
   },
   "outputs": [
    {
     "data": {
      "text/plain": [
       "array([[  0., -inf, -inf, -inf],\n",
       "       [  0.,   0., -inf, -inf],\n",
       "       [  0.,   0.,   0., -inf],\n",
       "       [  0.,   0.,   0.,   0.]])"
      ]
     },
     "execution_count": 9,
     "metadata": {},
     "output_type": "execute_result"
    }
   ],
   "source": [
    "mask"
   ]
  },
  {
   "cell_type": "code",
   "execution_count": null,
   "metadata": {
    "colab": {
     "base_uri": "https://localhost:8080/"
    },
    "id": "lNH1VgEf7xTa",
    "outputId": "4211c411-0356-4e39-8388-d39b0c1d0920"
   },
   "outputs": [
    {
     "data": {
      "text/plain": [
       "array([[ 0.68537216,        -inf,        -inf,        -inf],\n",
       "       [ 0.47796088,  0.42358302,        -inf,        -inf],\n",
       "       [ 0.37611945, -0.30709922, -0.65849946,        -inf],\n",
       "       [ 0.78209275, -0.99700418,  1.88206279,  0.79213542]])"
      ]
     },
     "execution_count": 10,
     "metadata": {},
     "output_type": "execute_result"
    }
   ],
   "source": [
    "scaled + mask"
   ]
  },
  {
   "cell_type": "markdown",
   "metadata": {
    "id": "XMTAXjooN9eZ"
   },
   "source": [
    "## Softmax\n",
    "\n",
    "$$\n",
    "\\text{softmax} = \\frac{e^{x_i}}{\\sum_j e^x_j}\n",
    "$$"
   ]
  },
  {
   "cell_type": "code",
   "execution_count": null,
   "metadata": {
    "id": "2R4gdRqj8W4Y"
   },
   "outputs": [],
   "source": [
    "def softmax(x):\n",
    "  return (np.exp(x).T / np.sum(np.exp(x), axis=-1)).T"
   ]
  },
  {
   "cell_type": "code",
   "execution_count": null,
   "metadata": {
    "id": "K5eg2zPy41sP"
   },
   "outputs": [],
   "source": [
    "attention = softmax(scaled + mask)"
   ]
  },
  {
   "cell_type": "code",
   "execution_count": null,
   "metadata": {
    "colab": {
     "base_uri": "https://localhost:8080/"
    },
    "id": "7sauNmfl-1TB",
    "outputId": "46b22beb-9034-4c7c-8d56-04209d2581c4"
   },
   "outputs": [
    {
     "data": {
      "text/plain": [
       "array([[1.        , 0.        , 0.        , 0.        ],\n",
       "       [0.51359112, 0.48640888, 0.        , 0.        ],\n",
       "       [0.53753304, 0.27144826, 0.1910187 , 0.        ],\n",
       "       [0.19293995, 0.03256643, 0.57960627, 0.19488734]])"
      ]
     },
     "execution_count": 21,
     "metadata": {},
     "output_type": "execute_result"
    }
   ],
   "source": [
    "attention"
   ]
  },
  {
   "cell_type": "code",
   "execution_count": null,
   "metadata": {
    "colab": {
     "base_uri": "https://localhost:8080/"
    },
    "id": "BAy37go56LZo",
    "outputId": "78d97fa1-e0b3-4c1d-8294-bf0fdb77f199"
   },
   "outputs": [
    {
     "data": {
      "text/plain": [
       "array([[-0.00368231,  1.43739233, -0.59614565, -1.23171219,  1.12030717,\n",
       "        -0.98620738, -0.15461465, -1.03106383],\n",
       "       [ 0.41440401, -0.13671232,  0.02128364, -0.60532081,  0.49977893,\n",
       "        -1.1936286 , -0.27463831, -1.10169151],\n",
       "       [ 0.32673907,  0.72121642, -0.00947672, -0.59897862,  0.90155754,\n",
       "        -0.88535361, -0.21384855, -0.7053796 ],\n",
       "       [ 0.18700384,  1.67754576,  0.33105314, -0.41795742,  1.4258469 ,\n",
       "        -0.18788199, -0.10285145,  0.54683565]])"
      ]
     },
     "execution_count": 22,
     "metadata": {},
     "output_type": "execute_result"
    }
   ],
   "source": [
    "new_v = np.matmul(attention, v)\n",
    "new_v"
   ]
  },
  {
   "cell_type": "code",
   "execution_count": null,
   "metadata": {
    "colab": {
     "base_uri": "https://localhost:8080/"
    },
    "id": "vCP2aZOU9VrT",
    "outputId": "e1fe2137-cd95-4a4b-fa1a-3ec21c38104c"
   },
   "outputs": [
    {
     "data": {
      "text/plain": [
       "array([[-0.00368231,  1.43739233, -0.59614565, -1.23171219,  1.12030717,\n",
       "        -0.98620738, -0.15461465, -1.03106383],\n",
       "       [ 0.85585446, -1.79878344,  0.67321704,  0.05607552, -0.15542661,\n",
       "        -1.41264124, -0.40136933, -1.17626611],\n",
       "       [ 0.50465335,  2.28693419,  0.67128338,  0.2506863 ,  1.78802234,\n",
       "         0.14775751, -0.11405725,  0.88026286],\n",
       "       [-0.68069105,  0.68385101,  0.17994557, -1.68013201,  0.91543969,\n",
       "        -0.19108312,  0.03160471,  1.40527326]])"
      ]
     },
     "execution_count": 23,
     "metadata": {},
     "output_type": "execute_result"
    }
   ],
   "source": [
    "v"
   ]
  },
  {
   "cell_type": "code",
   "execution_count": null,
   "metadata": {
    "id": "h_JndWelLDNW"
   },
   "outputs": [],
   "source": []
  },
  {
   "cell_type": "markdown",
   "metadata": {
    "id": "nSiJuBQELFHT"
   },
   "source": [
    "# Function"
   ]
  },
  {
   "cell_type": "code",
   "execution_count": null,
   "metadata": {
    "id": "XvTnmdcB_jdq"
   },
   "outputs": [],
   "source": [
    "def softmax(x):\n",
    "  return (np.exp(x).T / np.sum(np.exp(x), axis=-1)).T\n",
    "\n",
    "def scaled_dot_product_attention(q, k, v, mask=None):\n",
    "  d_k = q.shape[-1]\n",
    "  scaled = np.matmul(q, k.T) / math.sqrt(d_k)\n",
    "  if mask is not None:\n",
    "    scaled = scaled + mask\n",
    "  attention = softmax(scaled)\n",
    "  out = np.matmul(attention, v)\n",
    "  return out, attention"
   ]
  },
  {
   "cell_type": "code",
   "execution_count": null,
   "metadata": {
    "colab": {
     "base_uri": "https://localhost:8080/"
    },
    "id": "KSxLkZdiSLMT",
    "outputId": "ca70508d-fb6e-4eec-acb6-7a89a60dffa8"
   },
   "outputs": [
    {
     "name": "stdout",
     "output_type": "stream",
     "text": [
      "Q\n",
      " [[ 0.11672673 -2.54870451 -1.44065948  0.93661829  1.36278968  1.04252277\n",
      "  -0.01310938 -1.3163937 ]\n",
      " [ 0.26721599 -0.90218255  0.07417847 -0.10430246  0.52684253 -0.07081531\n",
      "  -0.60511725 -0.55225527]\n",
      " [-0.93297509  0.28724456  1.37184579  0.41589874  0.34981245 -0.24753755\n",
      "  -1.24497125  0.05044148]\n",
      " [-0.11414585 -0.01545749 -0.58376828 -0.40193907  0.93931836 -1.94334363\n",
      "  -0.34770465  1.50103406]]\n",
      "K\n",
      " [[ 1.1226585  -0.85645535  0.54315044  1.36560451  0.52539476 -0.94502504\n",
      "  -0.48444661  0.46268014]\n",
      " [-0.53713766 -1.16937329 -0.57988617  0.92713577 -0.85995607 -0.40352635\n",
      "   0.26555146 -1.83159914]\n",
      " [-2.06994435 -0.09514715 -1.64928361 -0.17375184  0.13146819 -1.76335363\n",
      "   1.56568846  0.69751826]\n",
      " [ 0.32910684 -0.1939204  -0.80444134  0.78816869  0.35599408  0.28309835\n",
      "  -0.25970963  1.49744622]]\n",
      "V\n",
      " [[-0.00368231  1.43739233 -0.59614565 -1.23171219  1.12030717 -0.98620738\n",
      "  -0.15461465 -1.03106383]\n",
      " [ 0.85585446 -1.79878344  0.67321704  0.05607552 -0.15542661 -1.41264124\n",
      "  -0.40136933 -1.17626611]\n",
      " [ 0.50465335  2.28693419  0.67128338  0.2506863   1.78802234  0.14775751\n",
      "  -0.11405725  0.88026286]\n",
      " [-0.68069105  0.68385101  0.17994557 -1.68013201  0.91543969 -0.19108312\n",
      "   0.03160471  1.40527326]]\n",
      "New V\n",
      " [[-0.00368231  1.43739233 -0.59614565 -1.23171219  1.12030717 -0.98620738\n",
      "  -0.15461465 -1.03106383]\n",
      " [ 0.41440401 -0.13671232  0.02128364 -0.60532081  0.49977893 -1.1936286\n",
      "  -0.27463831 -1.10169151]\n",
      " [ 0.32673907  0.72121642 -0.00947672 -0.59897862  0.90155754 -0.88535361\n",
      "  -0.21384855 -0.7053796 ]\n",
      " [ 0.18700384  1.67754576  0.33105314 -0.41795742  1.4258469  -0.18788199\n",
      "  -0.10285145  0.54683565]]\n",
      "Attention\n",
      " [[1.         0.         0.         0.        ]\n",
      " [0.51359112 0.48640888 0.         0.        ]\n",
      " [0.53753304 0.27144826 0.1910187  0.        ]\n",
      " [0.19293995 0.03256643 0.57960627 0.19488734]]\n"
     ]
    }
   ],
   "source": [
    "values, attention = scaled_dot_product_attention(q, k, v, mask=mask)\n",
    "print(\"Q\\n\", q)\n",
    "print(\"K\\n\", k)\n",
    "print(\"V\\n\", v)\n",
    "print(\"New V\\n\", values)\n",
    "print(\"Attention\\n\", attention)"
   ]
  },
  {
   "cell_type": "code",
   "execution_count": null,
   "metadata": {
    "id": "-HtQQtB2LJus"
   },
   "outputs": [],
   "source": []
  }
 ],
 "metadata": {
  "colab": {
   "provenance": []
  },
  "kernelspec": {
   "display_name": "Python 3 (ipykernel)",
   "language": "python",
   "name": "python3"
  },
  "language_info": {
   "codemirror_mode": {
    "name": "ipython",
    "version": 3
   },
   "file_extension": ".py",
   "mimetype": "text/x-python",
   "name": "python",
   "nbconvert_exporter": "python",
   "pygments_lexer": "ipython3",
   "version": "3.9.16"
  }
 },
 "nbformat": 4,
 "nbformat_minor": 1
}
